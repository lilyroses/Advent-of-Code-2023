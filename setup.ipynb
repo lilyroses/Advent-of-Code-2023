{
 "cells": [
  {
   "cell_type": "markdown",
   "metadata": {},
   "source": [
    "# Setup for Advent of Code 2023 Project Files\n",
    "\n",
    "When starting a new Advent of Code event, the files in the `setup` folder will help create project directory and folders for each challenge.\n",
    "\n",
    "---\n",
    "\n",
    "## Project Layout   \n",
    "\n",
    "```\n",
    "... *project-root-dir*\n",
    "|___ Advent-of-Code-2023\n",
    "    |___ setup\n",
    "        |___ setup.ipynb\n",
    "        |___ generate_challenge_folder.ipynb\n",
    "        |___ template_instructions.md\n",
    "        |___ template_solution.ipynb\n",
    "    |___ solutions\n",
    "        |___ day_1\n",
    "            |___ solution.ipynb\n",
    "            |___ instructions.md\n",
    "            |___ input.txt\n",
    "        |___ day_2\n",
    "            |___ solution.ipynb\n",
    "            |___ instructions.md\n",
    "            |___ input.txt\n",
    "        ...\n",
    "        |___ day_n\n",
    "            |___ solution.ipynb\n",
    "            |___ instructions.md\n",
    "            |___ input.txt\n",
    "```"
   ]
  },
  {
   "cell_type": "markdown",
   "metadata": {},
   "source": [
    "---\n",
    "\n",
    "## First Time Setup Variables"
   ]
  },
  {
   "cell_type": "code",
   "execution_count": 11,
   "metadata": {},
   "outputs": [],
   "source": [
    "HOME_DIR = '/home/lilyroses/code/AoC/'\n",
    "YEAR = 2023"
   ]
  },
  {
   "cell_type": "code",
   "execution_count": 20,
   "metadata": {},
   "outputs": [
    {
     "name": "stdout",
     "output_type": "stream",
     "text": [
      "/home/lilyroses/code/AoC/Advent-of Code-2023/\n"
     ]
    }
   ],
   "source": [
    "import os\n",
    "from pathlib import Path\n",
    "\n",
    "home_dir_path = Path(HOME_DIR)\n",
    "if not home_dir_path.exists():\n",
    "    print(f'Error: {HOME_DIR} is not a valid path. Please check the First Time Setup Variables above and try again.') \n",
    "\n",
    "else:\n",
    "    PROJECT_DIR = f'{HOME_DIR}Advent-of Code-{YEAR}/'\n",
    "    if not os.path.em                        nh xj xists(PROJECT_DIR):\n",
    "        os.mkdir(PROJECT_DIR)\n",
    "\n",
    "print(PROJECT_DIR)"
   ]
  },
  {
   "cell_type": "markdown",
   "metadata": {},
   "source": []
  }
 ],
 "metadata": {
  "kernelspec": {
   "display_name": "Python 3",
   "language": "python",
   "name": "python3"
  },
  "language_info": {
   "codemirror_mode": {
    "name": "ipython",
    "version": 3
   },
   "file_extension": ".py",
   "mimetype": "text/x-python",
   "name": "python",
   "nbconvert_exporter": "python",
   "pygments_lexer": "ipython3",
   "version": "3.10.12"
  }
 },
 "nbformat": 4,
 "nbformat_minor": 2
}
