{
 "cells": [
  {
   "cell_type": "markdown",
   "metadata": {},
   "source": [
    "# Day 4 - Scratchcards"
   ]
  },
  {
   "cell_type": "markdown",
   "metadata": {},
   "source": [
    "## Part I\n",
    "\n",
    "---"
   ]
  },
  {
   "cell_type": "code",
   "execution_count": 1,
   "metadata": {},
   "outputs": [],
   "source": [
    "INPUT_FILE = 'input.txt'\n",
    "\n",
    "with open(INPUT_FILE, 'r') as f:\n",
    "    lines = [line.strip('\\n') for line in f.readlines()]\n",
    "\n",
    "# lines"
   ]
  },
  {
   "cell_type": "code",
   "execution_count": 2,
   "metadata": {},
   "outputs": [],
   "source": [
    "cards = lines"
   ]
  },
  {
   "cell_type": "code",
   "execution_count": 3,
   "metadata": {},
   "outputs": [],
   "source": [
    "# cards = [line.split(':')[1].strip() for line in lines]\n",
    "# # cards\n",
    "\n",
    "# len(lines) == len(cards)"
   ]
  },
  {
   "cell_type": "code",
   "execution_count": 4,
   "metadata": {},
   "outputs": [],
   "source": [
    "def parse_card(card):\n",
    "    card_no = int(card.split(':')[0].strip().split()[1])\n",
    "    \n",
    "    card_nums = card.split(':')[1].strip()\n",
    "    winning_nums = [int(num) for num in card_nums.split('|')[0].split()]\n",
    "    my_nums = [int(num) for num in card_nums.split('|')[1].split()]\n",
    "\n",
    "    return card_no, winning_nums, my_nums"
   ]
  },
  {
   "cell_type": "code",
   "execution_count": 5,
   "metadata": {},
   "outputs": [],
   "source": [
    "def check_winning_nums(card):\n",
    "    winning_nums, my_nums = parse_card(card)[1], parse_card(card)[2]\n",
    "\n",
    "    total_winning_nums = 0\n",
    "\n",
    "    for num in my_nums:\n",
    "        if num in winning_nums:\n",
    "            total_winning_nums += 1\n",
    "\n",
    "    score = 0\n",
    "\n",
    "    if total_winning_nums:\n",
    "        if total_winning_nums >= 1:\n",
    "            score += 1\n",
    "            if total_winning_nums == 1:\n",
    "                return score\n",
    "            elif total_winning_nums > 1:\n",
    "                for i in range(total_winning_nums-1):\n",
    "                    score *= 2\n",
    "                return score\n",
    "    else:\n",
    "        return score"
   ]
  },
  {
   "cell_type": "code",
   "execution_count": 6,
   "metadata": {},
   "outputs": [],
   "source": [
    "def solve():\n",
    "    total_score = 0\n",
    "\n",
    "    for card in cards:\n",
    "        score = check_winning_nums(card)\n",
    "        total_score += score\n",
    "    return total_score"
   ]
  },
  {
   "cell_type": "code",
   "execution_count": 7,
   "metadata": {},
   "outputs": [
    {
     "data": {
      "text/plain": [
       "25571"
      ]
     },
     "execution_count": 7,
     "metadata": {},
     "output_type": "execute_result"
    }
   ],
   "source": [
    "solve()"
   ]
  },
  {
   "cell_type": "markdown",
   "metadata": {},
   "source": [
    "---\n",
    "\n",
    "### Testcases"
   ]
  },
  {
   "cell_type": "code",
   "execution_count": 8,
   "metadata": {},
   "outputs": [],
   "source": [
    "example_lines = [\n",
    "    'Card 1: 41 48 83 86 17 | 83 86  6 31 17  9 48 53',\n",
    "    'Card 2: 13 32 20 16 61 | 61 30 68 82 17 32 24 19',\n",
    "    'Card 3:  1 21 53 59 44 | 69 82 63 72 16 21 14  1',\n",
    "    'Card 4: 41 92 73 84 69 | 59 84 76 51 58  5 54 83',\n",
    "    'Card 5: 87 83 26 28 32 | 88 30 70 12 93 22 82 36',\n",
    "    'Card 6: 31 18 13 56 72 | 74 77 10 23 35 67 36 11'\n",
    "]\n",
    "\n",
    "example_card_1 = example_lines[0]\n",
    "example_card_2 = example_lines[1]\n",
    "example_card_3 = example_lines[2]\n",
    "example_card_4 = example_lines[3]\n",
    "example_card_5 = example_lines[4]\n",
    "example_card_6 = example_lines[5]\n",
    "\n",
    "assert check_winning_nums(example_card_1) == 8, 'Error'\n",
    "assert check_winning_nums(example_card_2) == 2, 'Error'\n",
    "assert check_winning_nums(example_card_3) == 2, 'Error'\n",
    "assert check_winning_nums(example_card_4) == 1, 'Error'\n",
    "assert check_winning_nums(example_card_5) == 0, 'Error'\n",
    "assert check_winning_nums(example_card_6) == 0, 'Error'"
   ]
  },
  {
   "cell_type": "code",
   "execution_count": 9,
   "metadata": {},
   "outputs": [],
   "source": [
    "example_total_score = 0\n",
    "\n",
    "for example_card in example_lines:\n",
    "    example_score = check_winning_nums(example_card)\n",
    "\n",
    "    example_total_score += example_score\n",
    "\n",
    "assert example_total_score == 13, 'Error'"
   ]
  },
  {
   "cell_type": "markdown",
   "metadata": {},
   "source": [
    "---\n",
    "\n",
    "### Answer"
   ]
  },
  {
   "cell_type": "code",
   "execution_count": 10,
   "metadata": {},
   "outputs": [
    {
     "data": {
      "text/plain": [
       "25571"
      ]
     },
     "execution_count": 10,
     "metadata": {},
     "output_type": "execute_result"
    }
   ],
   "source": [
    "solve()"
   ]
  },
  {
   "cell_type": "code",
   "execution_count": 11,
   "metadata": {},
   "outputs": [],
   "source": [
    "answer = 25571"
   ]
  },
  {
   "cell_type": "markdown",
   "metadata": {},
   "source": [
    "---\n",
    "\n",
    "## Part II"
   ]
  },
  {
   "cell_type": "code",
   "execution_count": 12,
   "metadata": {},
   "outputs": [],
   "source": [
    "def check_winning_nums(card):\n",
    "    winning_nums = parse_card(card)[1],\n",
    "    my_nums = parse_card(card)[2]\n",
    "\n",
    "    my_winning_nums = []\n",
    "\n",
    "    for num in my_nums:\n",
    "        if num in winning_nums:\n",
    "            my_winning_nums.append(num)\n",
    "\n",
    "    return len(my_winning_nums)\n"
   ]
  },
  {
   "cell_type": "code",
   "execution_count": 13,
   "metadata": {},
   "outputs": [],
   "source": [
    "def copy_winning_cards(card_no, score):\n",
    "    last_copied_card = card_no + score\n",
    "    copied_cards = []\n",
    "\n",
    "    for i in range(card_no+1, last_copied_card+1):\n",
    "        copied_cards.append(i)\n",
    "    \n",
    "    return copied_cards"
   ]
  },
  {
   "cell_type": "code",
   "execution_count": 14,
   "metadata": {},
   "outputs": [],
   "source": [
    "all_copied_cards = []\n",
    "\n",
    "for line in lines:\n",
    "    card_no = parse_card(line)[0]\n",
    "    winning_nums = parse_card(line)[1]\n",
    "    my_nums = parse_card(line)[2]\n",
    "\n",
    "    \n",
    "\n"
   ]
  }
 ],
 "metadata": {
  "kernelspec": {
   "display_name": "Python 3",
   "language": "python",
   "name": "python3"
  },
  "language_info": {
   "codemirror_mode": {
    "name": "ipython",
    "version": 3
   },
   "file_extension": ".py",
   "mimetype": "text/x-python",
   "name": "python",
   "nbconvert_exporter": "python",
   "pygments_lexer": "ipython3",
   "version": "3.10.12"
  }
 },
 "nbformat": 4,
 "nbformat_minor": 2
}
