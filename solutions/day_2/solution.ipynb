{
 "cells": [
  {
   "cell_type": "markdown",
   "metadata": {},
   "source": [
    "# Day 2"
   ]
  },
  {
   "cell_type": "markdown",
   "metadata": {},
   "source": [
    "---\n",
    "\n",
    "## Part I"
   ]
  },
  {
   "cell_type": "code",
   "execution_count": 8,
   "metadata": {},
   "outputs": [],
   "source": [
    "INPUT_FILE = 'input.txt'\n",
    "\n",
    "with open(INPUT_FILE, 'r') as f:\n",
    "    lines = [line.strip('\\n') for line in f.readlines()]\n",
    "\n",
    "# lines"
   ]
  },
  {
   "cell_type": "code",
   "execution_count": 73,
   "metadata": {},
   "outputs": [],
   "source": [
    "def parse_input(line):\n",
    "    game_id = int(line.split(':')[0].split()[1])\n",
    "    games = line.split(':')[1].split(';')\n",
    "\n",
    "    max_red = 12\n",
    "    max_green = 13\n",
    "    max_blue = 14\n",
    "\n",
    "    red = []\n",
    "    green = []\n",
    "    blue = []\n",
    "\n",
    "    for game in games:\n",
    "        for cubes in game.split(','):\n",
    "            num, color = cubes.split()\n",
    "            if color == 'red':\n",
    "                red.append(int(num))\n",
    "            if color == 'green':\n",
    "                green.append(int(num))\n",
    "            if color == 'blue':\n",
    "                blue.append(int(num))\n",
    "\n",
    "    if ((max(red) <= max_red) and \n",
    "        (max(green) <= max_green) and\n",
    "        (max(blue) <= max_blue)):\n",
    "        return game_id"
   ]
  },
  {
   "cell_type": "code",
   "execution_count": 74,
   "metadata": {},
   "outputs": [],
   "source": [
    "def solve():\n",
    "    game_ids = []\n",
    "    for line in lines:\n",
    "        i = parse_input(line)\n",
    "        if i is not None:\n",
    "            game_ids.append(i)\n",
    "    return sum(game_ids)"
   ]
  },
  {
   "cell_type": "code",
   "execution_count": 77,
   "metadata": {},
   "outputs": [
    {
     "data": {
      "text/plain": [
       "2162"
      ]
     },
     "execution_count": 77,
     "metadata": {},
     "output_type": "execute_result"
    }
   ],
   "source": [
    "solve()"
   ]
  },
  {
   "cell_type": "code",
   "execution_count": 78,
   "metadata": {},
   "outputs": [],
   "source": [
    "answer = 2162"
   ]
  },
  {
   "cell_type": "markdown",
   "metadata": {},
   "source": [
    "---\n",
    "\n",
    "## Part II"
   ]
  },
  {
   "cell_type": "code",
   "execution_count": 25,
   "metadata": {},
   "outputs": [],
   "source": [
    "from math import prod"
   ]
  },
  {
   "cell_type": "code",
   "execution_count": 31,
   "metadata": {},
   "outputs": [],
   "source": [
    "def find_power(line):\n",
    "    games = line.split(':')[1].split(';')\n",
    "\n",
    "    red = []\n",
    "    green = []\n",
    "    blue = []\n",
    "\n",
    "    for game in games:\n",
    "        for cubes in game.split(','):\n",
    "            num, color = cubes.split()\n",
    "            if color == 'red':\n",
    "                red.append(int(num))\n",
    "            if color == 'green':\n",
    "                green.append(int(num))\n",
    "            if color == 'blue':\n",
    "                blue.append(int(num))\n",
    "\n",
    "    powers = []\n",
    "    if red:\n",
    "        max_red = max(red)\n",
    "        powers.append(max_red)\n",
    "    if green:\n",
    "        max_green = max(green)\n",
    "        powers.append(max_green)\n",
    "    if blue:\n",
    "        max_blue = max(blue)\n",
    "        powers.append(max_blue)\n",
    "    total = prod(powers)\n",
    "    return total"
   ]
  },
  {
   "cell_type": "code",
   "execution_count": 33,
   "metadata": {},
   "outputs": [],
   "source": [
    "def solve():\n",
    "\n",
    "    powers = []\n",
    "\n",
    "    for line in lines:\n",
    "        power = find_power(line)\n",
    "        powers.append(power)\n",
    "\n",
    "    answer = sum(powers)\n",
    "    return answer"
   ]
  },
  {
   "cell_type": "code",
   "execution_count": 34,
   "metadata": {},
   "outputs": [
    {
     "data": {
      "text/plain": [
       "72513"
      ]
     },
     "execution_count": 34,
     "metadata": {},
     "output_type": "execute_result"
    }
   ],
   "source": [
    "solve()"
   ]
  },
  {
   "cell_type": "code",
   "execution_count": 35,
   "metadata": {},
   "outputs": [],
   "source": [
    "answer = 72513"
   ]
  }
 ],
 "metadata": {
  "kernelspec": {
   "display_name": "Python 3",
   "language": "python",
   "name": "python3"
  },
  "language_info": {
   "codemirror_mode": {
    "name": "ipython",
    "version": 3
   },
   "file_extension": ".py",
   "mimetype": "text/x-python",
   "name": "python",
   "nbconvert_exporter": "python",
   "pygments_lexer": "ipython3",
   "version": "3.10.12"
  }
 },
 "nbformat": 4,
 "nbformat_minor": 2
}
