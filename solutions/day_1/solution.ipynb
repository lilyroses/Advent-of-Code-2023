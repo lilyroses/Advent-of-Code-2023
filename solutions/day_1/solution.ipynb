{
 "cells": [
  {
   "cell_type": "code",
   "execution_count": 66,
   "metadata": {},
   "outputs": [],
   "source": [
    "INPUT_FILE = 'input.txt'\n",
    "\n",
    "with open(INPUT_FILE, 'r') as f:\n",
    "    lines = [line.strip('\\n') for line in f.readlines()]\n",
    "\n",
    "# len(lines)\n",
    "# lines"
   ]
  },
  {
   "cell_type": "code",
   "execution_count": 67,
   "metadata": {},
   "outputs": [
    {
     "data": {
      "text/plain": [
       "{'one': '1',\n",
       " 'two': '2',\n",
       " 'three': '3',\n",
       " 'four': '4',\n",
       " 'five': '5',\n",
       " 'six': '6',\n",
       " 'seven': '7',\n",
       " 'eight': '8',\n",
       " 'nine': '9'}"
      ]
     },
     "execution_count": 67,
     "metadata": {},
     "output_type": "execute_result"
    }
   ],
   "source": [
    "num_words = ['one', 'two', 'three', 'four', 'five',\n",
    "             'six', 'seven', 'eight', 'nine']\n",
    "\n",
    "num_strs = [str(i) for i in range(1, 10)]\n",
    "\n",
    "all_num_strs = num_words + num_strs\n",
    "\n",
    "num_map = dict(zip(num_words, num_strs))\n",
    "\n",
    "num_map\n",
    "\n",
    "# all_num_strs"
   ]
  },
  {
   "cell_type": "markdown",
   "metadata": {},
   "source": [
    "---\n",
    "\n",
    "## Part I"
   ]
  },
  {
   "cell_type": "code",
   "execution_count": 98,
   "metadata": {},
   "outputs": [],
   "source": [
    "def find_ints(s):\n",
    "    nums = []\n",
    "    for char in s:\n",
    "        try:\n",
    "            n = int(char)\n",
    "        except ValueError:\n",
    "            pass\n",
    "        else:\n",
    "            nums.append(char)\n",
    "    if nums:\n",
    "        first_num = nums[0]\n",
    "        if len(nums) == 1:\n",
    "            last_num = first_num\n",
    "        else:\n",
    "            last_num = nums[-1]\n",
    "\n",
    "        final_num = int(first_num + last_num)\n",
    "        return final_num\n",
    "    return None"
   ]
  },
  {
   "cell_type": "code",
   "execution_count": 99,
   "metadata": {},
   "outputs": [
    {
     "data": {
      "text/plain": [
       "54951"
      ]
     },
     "execution_count": 99,
     "metadata": {},
     "output_type": "execute_result"
    }
   ],
   "source": [
    "all_nums = []\n",
    "\n",
    "for line in lines:\n",
    "    n = find_ints(line)\n",
    "    if n is not None:\n",
    "        all_nums.append(n)\n",
    "\n",
    "sum(all_nums)"
   ]
  },
  {
   "cell_type": "code",
   "execution_count": 100,
   "metadata": {},
   "outputs": [],
   "source": [
    "answer = 54951"
   ]
  },
  {
   "cell_type": "markdown",
   "metadata": {},
   "source": [
    "---\n",
    "\n",
    "## Part II"
   ]
  },
  {
   "cell_type": "code",
   "execution_count": 96,
   "metadata": {},
   "outputs": [],
   "source": [
    "def find_nums(s):\n",
    "    \"\"\"\n",
    "    Return a two-digit string integer, created by concatenating the first and last number in s. If there is only one number in s, \n",
    "    create the string integer by repeating the number twice.\n",
    "    \"\"\"\n",
    "    \n",
    "    # Map the index of each instance of each number in s\n",
    "    num_indices = {}\n",
    "\n",
    "    # Check occurence of each number\n",
    "    for num in all_num_strs:\n",
    "        # Check if the number occurs more than once\n",
    "        c = s.count(num)\n",
    "        # If the number occurs at least once, find the (leftmost)\n",
    "        # index of the number\n",
    "        if c > 0:\n",
    "            i = s.find(num)\n",
    "            num_indices[i] = num\n",
    "        # If the number occurs at least twice, we only care about the rightmost\n",
    "        # instance of the number, as this could potentially be the last number\n",
    "        # in the string\n",
    "        if c >= 2:\n",
    "            # j is the index of the second/last occurence of num in the string\n",
    "            j = s.rfind(num)\n",
    "            num_indices[j] = num\n",
    "\n",
    "    if num_indices:\n",
    "        # Sort the indices to find the lowest and highest indices\n",
    "        sorted_indices = sorted(list(num_indices.keys()))\n",
    "        # The first number is at the lowest index\n",
    "        first_num_index = sorted_indices[0]\n",
    "        first_num = num_indices[first_num_index]\n",
    "\n",
    "        # If there is only one index, then there is only one number\n",
    "        # in the string, so we need to repeat the number to create\n",
    "        # the two digit integer\n",
    "        if len(sorted_indices) == 1:\n",
    "            last_num = first_num\n",
    "        \n",
    "        # Otherwise, the second number is at the last (highest)\n",
    "        # index in s\n",
    "        elif len(sorted_indices) > 1:\n",
    "            last_num_index = sorted_indices[-1]\n",
    "            last_num = num_indices[last_num_index]\n",
    "\n",
    "        # If the number is the English spelling of the number,\n",
    "        # set it to (the string representation of) the integer\n",
    "        # instead\n",
    "        if first_num in num_words:\n",
    "            first_num = num_map[first_num]\n",
    "        if last_num in num_words:\n",
    "            last_num = num_map[last_num]\n",
    "\n",
    "        final_num = int(first_num + last_num)\n",
    "        return final_num\n",
    "\n",
    "    return None"
   ]
  },
  {
   "cell_type": "code",
   "execution_count": 91,
   "metadata": {},
   "outputs": [
    {
     "name": "stdout",
     "output_type": "stream",
     "text": [
      "[18, 11, 11, 99, 48]\n"
     ]
    }
   ],
   "source": [
    "\n",
    "\n",
    "s = 'oneone11lsdkfjsldtwosixthreeight90sdf9fsdthreeightc'\n",
    "\n",
    "t = 'one'\n",
    "\n",
    "u = '1sdjfsdkjfhskdjfs'\n",
    "\n",
    "v = 'sdfs9sd10dsdfjs77asdasd9asdas'\n",
    "\n",
    "w = 'fournineasdfsd981sdfdksj8sddf'\n",
    "\n",
    "first_num_index = 'asdhsdkfjsd'\n",
    "\n",
    "assert find_nums(s) == '18', 'Error'\n",
    "assert find_nums(t) == '11', 'Error'\n",
    "assert find_nums(u) == '11', 'Error'\n",
    "assert find_nums(v) == '99', 'Error'\n",
    "assert find_nums(w) == '48', 'Error'\n",
    "\n",
    "\n",
    "nums = []\n",
    "strs = [s, t, u, v, w, first_num_index]\n",
    "for s in strs:\n",
    "    n = find_nums(s)\n",
    "    if n is not None:\n",
    "        nums.append(int(n))\n",
    "\n",
    "print(nums)"
   ]
  },
  {
   "cell_type": "code",
   "execution_count": 97,
   "metadata": {},
   "outputs": [
    {
     "data": {
      "text/plain": [
       "55218"
      ]
     },
     "execution_count": 97,
     "metadata": {},
     "output_type": "execute_result"
    }
   ],
   "source": [
    "found_nums = []\n",
    "\n",
    "for line in lines:\n",
    "    n = find_nums(line)\n",
    "    if n is not None:\n",
    "        found_nums.append(n)\n",
    "\n",
    "sum(found_nums)"
   ]
  },
  {
   "cell_type": "code",
   "execution_count": 94,
   "metadata": {},
   "outputs": [],
   "source": [
    "answer = 55218"
   ]
  }
 ],
 "metadata": {
  "kernelspec": {
   "display_name": "Python 3",
   "language": "python",
   "name": "python3"
  },
  "language_info": {
   "codemirror_mode": {
    "name": "ipython",
    "version": 3
   },
   "file_extension": ".py",
   "mimetype": "text/x-python",
   "name": "python",
   "nbconvert_exporter": "python",
   "pygments_lexer": "ipython3",
   "version": "3.10.12"
  }
 },
 "nbformat": 4,
 "nbformat_minor": 2
}
